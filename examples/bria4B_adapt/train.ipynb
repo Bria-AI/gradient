{
 "cells": [
  {
   "cell_type": "code",
   "execution_count": null,
   "metadata": {},
   "outputs": [],
   "source": [
    "import os\n",
    "import sys\n",
    "sys.path.append(\"/home/ubuntu/gradient\")\n",
    "from core.config.bria4B_adapt import HyperParemeter as model_config\n",
    "from core.config.dataset import DatasetConfig\n",
    "from models.diffusion.bria4B_adapt.train import Bria3_0 as Model\n",
    "\n",
    "bria_conf = model_config(\n",
    "    train_batch_size=2,\n",
    "    precompute=False,\n",
    "    dense_caption_ratio = 0.8,  # 1\n",
    "    gradient_accumulation_steps = 1,\n",
    "    flow_matching_latent_loss=1,\n",
    "    shift=3.0,\n",
    "    use_flow_matching=1,\n",
    "    use_dynamic_shift=1,\n",
    "    weighting_scheme=\"uniform\"\n",
    "    )\n",
    "\n",
    "model = Model(bria_conf)"
   ]
  },
  {
   "cell_type": "code",
   "execution_count": 7,
   "metadata": {},
   "outputs": [],
   "source": [
    "## initialize the strategy\n",
    "from core.config.startegy import FSDPConfig\n",
    "\n",
    "fsdp_config = FSDPConfig(\n",
    "        strategy_name=\"FSDP\",\n",
    "        devices=4,\n",
    "        mixed_precision=True,\n",
    "        sharding_strategy=\"FULL_SHARD\",\n",
    "        auto_wrap_policy=\"transformer_auto_wrap_policy\",\n",
    "    )"
   ]
  },
  {
   "cell_type": "code",
   "execution_count": 3,
   "metadata": {},
   "outputs": [],
   "source": [
    "#Data loader\n",
    "from core.config.dataloader import DataLoaderConfig\n",
    "\n",
    "dataset = DatasetConfig(\n",
    "    dataset_name=\"timm/imagenet-1k-wds\",\n",
    "    train_batch_size=2,\n",
    ")"
   ]
  },
  {
   "cell_type": "code",
   "execution_count": 8,
   "metadata": {},
   "outputs": [],
   "source": [
    "from core.config.trainer import TrainerConfig\n",
    "from core.config.loggers import WandB\n",
    "import datetime\n",
    "\n",
    "time = datetime.datetime.now().strftime(\"%Y-%m-%d-%H-%M-%S\")\n",
    "\n",
    "logger = WandB(\n",
    "    wandb_mode=\"offline\",\n",
    "    wandb_project=\"EA-tests\",\n",
    "    wandb_group=\"test-1\",\n",
    "    wandb_run_name=f\"test-{time}\"\n",
    ")\n",
    "\n",
    "# Trainer \n",
    "trainer = TrainerConfig(\n",
    "    max_train_steps=100\n",
    "    \n",
    ")"
   ]
  },
  {
   "cell_type": "code",
   "execution_count": null,
   "metadata": {},
   "outputs": [],
   "source": [
    "# Train\n",
    "\n",
    "model.train(\n",
    "    dataset_config=dataset,\n",
    "    trainer_config=trainer,\n",
    "    logger_config=logger,\n",
    ")"
   ]
  }
 ],
 "metadata": {
  "kernelspec": {
   "display_name": "Python 3",
   "language": "python",
   "name": "python3"
  },
  "language_info": {
   "codemirror_mode": {
    "name": "ipython",
    "version": 3
   },
   "file_extension": ".py",
   "mimetype": "text/x-python",
   "name": "python",
   "nbconvert_exporter": "python",
   "pygments_lexer": "ipython3",
   "version": "3.11.11"
  }
 },
 "nbformat": 4,
 "nbformat_minor": 2
}
